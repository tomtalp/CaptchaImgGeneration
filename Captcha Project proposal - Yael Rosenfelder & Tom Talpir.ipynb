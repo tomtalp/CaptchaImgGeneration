{
 "cells": [
  {
   "cell_type": "markdown",
   "metadata": {},
   "source": [
    "# CAPTCHA Image Detection"
   ]
  },
  {
   "cell_type": "markdown",
   "metadata": {},
   "source": [
    "_By Yael Rosenfelder (203329784) and Tom Talpir (311206965)_"
   ]
  },
  {
   "cell_type": "markdown",
   "metadata": {},
   "source": [
    "## Project description"
   ]
  },
  {
   "cell_type": "markdown",
   "metadata": {},
   "source": [
    "#### What is CAPTCHA?\n",
    "CAPTCHA stands for __`completely automated public Turing test to tell computers and humans apart`__ and is a type of test used in computing to determine whether or not the user is human.\n",
    "\n",
    "Over the years, CAPTCHA tasks have evolved from fairly simple tasks to more and more complicated ones.\n",
    "\n",
    "For example, a textual form of CAPTCHA requires someone to correctly evaluate and enter a sequence of letters or numbers which can be seen in a distorted image displayed on their screen.\n",
    "\n",
    "Newer versions require users to detect objects in a given image (for example, to detect all crosswalks that are visible in an image)\n",
    "\n",
    "#### What are we trying to achieve?\n",
    "Our project will help solve the older textual CAPTCHA versions\n",
    "<br>\n",
    "Our goal is to convert textual CAPTCHA images into an actual computer string\n",
    "\n",
    "#### Why is CAPTCHA detection important?\n",
    "In a way, CAPTCHA detection can be seen as some sort of OCR _(Optical character recognition)_ problem. \n",
    "Finding an efficient way to convert an image with text to an actual string can be helpful in many ways - \n",
    "\n",
    "1. **Self-driving cars & modern navigation systems perform a lot of OCR tasks** - Any improvement in the OCR field can help improve the performance & capabilities in this field. For example - reading fingerposts & road signs.\n",
    "<br><br>\n",
    "2. **Converting old books & printed texts into digital formats** - For many years, lot's of CAPTCHA texts were actual images from books, and many providers were using this to help the conversion process of printed letters into a digital format. Improvements in this field can make books and other printed formats more accessible for the general public & for people with disabilities.\n",
    "<br><br>\n",
    "3. **Improving online accessibility** - CAPTCHAs that are based on reading text can prevent the blind or visually impaired users from accessing certain online resources. An automatic way of converting CAPTCHA's into actual text can help such tasks, and improve accessibility for many users.\n",
    "\n",
    "\n",
    "#### What will a good solution look like?\n",
    "General text detection - We know that certain characters will be hard to detect, since many of them appear to be very similar in CAPTCHA's. \n",
    "\n",
    "For example, the characters `i`, `l`, `1` can be confusing even for a human. Even here, the digit `one` and the letter `L` are almost identical! \n",
    "\n",
    "Our goal is to detect the characters that construct a word in an image, while allowing the errors described above - confusion between characters from similar \"clusters\".\n",
    "\n",
    "\n",
    "Due to time constraints & the lack of suitable hardware (GPU's), we're aware that correctly classifying everything will be a very difficult task."
   ]
  },
  {
   "cell_type": "markdown",
   "metadata": {},
   "source": [
    "## Data\n",
    "Our data consists of CAPTCHA images that we'll automatically generate via code.\n",
    "\n",
    "The generated images will include random characters & words.\n",
    "\n",
    "When generating a single character, there are 62 possible options - \n",
    "* 26 lowercase English letters (a, b, c, ...)\n",
    "* 26 uppercase English letters (A, B, C, ...)\n",
    "* 10 digits (0, 1, 2, ...)\n",
    "\n",
    "The size of the dataset will be very large - we can generate as many images as we want!\n",
    "<br>\n",
    "For our initial version in which we're trying to detect a single letter, we generated around `200,000` characters, which is about `3000` images for every character.\n",
    "\n",
    "In addition, we'll use different fonts while generating each character/word.\n",
    "<br>\n",
    "\n",
    "Each image has the following dimensions - `80x80x3` (WxHxC)\n",
    "\n",
    "In addition, we might end up **limiting** the total length of a word we're trying to detect. \n",
    "<br>\n",
    "Since a word might be very long, we'll set a limit for the maximum length (the limit hasn't been decided yet)"
   ]
  },
  {
   "cell_type": "markdown",
   "metadata": {},
   "source": [
    "Here are a few examples of single character images, which we generated -"
   ]
  },
  {
   "cell_type": "code",
   "execution_count": 5,
   "metadata": {},
   "outputs": [],
   "source": [
    "from IPython.display import Image"
   ]
  },
  {
   "cell_type": "code",
   "execution_count": 3,
   "metadata": {},
   "outputs": [
    {
     "data": {
      "image/png": "[encoded data removed]",
      "text/plain": [
       "<IPython.core.display.Image object>"
      ]
     },
     "execution_count": 3,
     "metadata": {},
     "output_type": "execute_result"
    }
   ],
   "source": [
    "Image(\"/Users/tomtalpir/dev/tom/captcha_project/CaptchaImgGeneration/o_w_test/w_f960487b.png\")"
   ]
  },
  {
   "cell_type": "code",
   "execution_count": 6,
   "metadata": {
    "scrolled": true
   },
   "outputs": [
    {
     "data": {
      "image/png": "[encoded data removed]",
      "text/plain": [
       "<IPython.core.display.Image object>"
      ]
     },
     "execution_count": 6,
     "metadata": {},
     "output_type": "execute_result"
    }
   ],
   "source": [
    "Image(\"/Users/tomtalpir/dev/tom/captcha_project/CaptchaImgGeneration/train_dataset/0_1b6696b3.png\")"
   ]
  },
  {
   "cell_type": "code",
   "execution_count": 8,
   "metadata": {},
   "outputs": [
    {
     "data": {
      "image/png": "[encoded data removed]",
      "text/plain": [
       "<IPython.core.display.Image object>"
      ]
     },
     "execution_count": 8,
     "metadata": {},
     "output_type": "execute_result"
    }
   ],
   "source": [
    "Image(\"/Users/tomtalpir/dev/tom/captcha_project/CaptchaImgGeneration/idan_test.png\")"
   ]
  },
  {
   "cell_type": "markdown",
   "metadata": {},
   "source": [
    "### Software & tools"
   ]
  },
  {
   "cell_type": "markdown",
   "metadata": {},
   "source": [
    "We'll be using several tools and software packages for our project - \n",
    "* Python for generating our data and performing certain image transformations. We'll be using the following packages -\n",
    "    * `skimage`, `pandas`, `captcha` (A package for generating CAPTCHA's), `PIL`\n",
    "* PyTorch for training Neural Networks\n",
    "\n",
    "* We might end up using additional Python ML/Deep Learning frameworks for future solutions\n",
    "\n",
    "* When analyzing & displaying our results, we'll use certain visualization packages such as \n",
    "    * `Seaborn`\n",
    "    * `matplotlib`"
   ]
  },
  {
   "cell_type": "markdown",
   "metadata": {},
   "source": [
    "## Future plans"
   ]
  },
  {
   "cell_type": "markdown",
   "metadata": {},
   "source": [
    "So far we've been working on a single character detection.\n",
    "\n",
    "The main goal is to move from a single character detection to the detection of a full word.\n",
    "\n",
    "To do so, we thought of 2 different approaches, and we'll try implementing both. \n",
    "\n",
    "### Character segmentation & single character detection\n",
    "In this approach we'll divide the characters that construct a word into single images, and detect each one on it's own.\n",
    "\n",
    "We'll try performing the segmentation using **object detection algorithms**. \n",
    "\n",
    "Once we divided the full word into separate characters, we'll perform single character detection on each one, to detect it's class.\n",
    "<br>\n",
    "So far we thought of the following approaches to perform object detection tasks - \n",
    "\n",
    "Assuming that our project doesn't require real-time detection, we might end up using non-real-time algorithms with higher detection rates rather than real-time detection algorithms with lower detection rates. \n",
    "\n",
    "From our current research it seems like the best approach might be the `SSD` or `R-FCN` models (and not `YOLO` which is better for real-time detection)\n",
    "\n",
    "Once the objects have been detected, we'll use a ConvNet to classify the images. We will try 2 main approaches for classifying a single letter - \n",
    "1. Our own ConvNet architecture - We'll experiment with different types of network configurations\n",
    "2. Transfer learning - We'll using a pretrained model, such as VGG19\n",
    "\n",
    "\n",
    "### Using a Recurrent Neural Network\n",
    "RNN's might have a big advantage when trying to detect a word - we won't have to perform character segmentation since the network will keep processing the image, going over all the characters.\n",
    "\n",
    "For example, RNN's are used when trying to read images of cursive writing, which might be a similar concept here since the characters in a CAPTCHA image can be connected to each other."
   ]
  },
  {
   "cell_type": "markdown",
   "metadata": {},
   "source": [
    "## What we've done so far"
   ]
  },
  {
   "cell_type": "markdown",
   "metadata": {},
   "source": [
    "So far we've generated over 200,000 single character images, and started working on a very simple & straightforward **Convolutional Neural Network** to detect single character images.\n",
    "\n",
    "We tried a few simple ConvNet architectures using the PyTorch framework.\n",
    "\n",
    "Here's an example of one - "
   ]
  },
  {
   "cell_type": "code",
   "execution_count": null,
   "metadata": {},
   "outputs": [],
   "source": [
    "class SingleLetterCaptchaDeepCNN(nn.Module):\n",
    "    def __init__(self):\n",
    "        super(SingleLetterCaptchaDeepCNN, self).__init__()\n",
    "\n",
    "        self.conv1_layer = nn.Conv2d(3, 32, 5) \n",
    "        self.conv2_layer = nn.Conv2d(32, 16, 3) \n",
    "        self.conv3_layer = nn.Conv2d(16, 8, 2) \n",
    "\n",
    "        self.layer_size_after_convs = 8 * 5 * 5 \n",
    "        self.fc1 = nn.Linear(self.layer_size_after_convs, TOTAL_NUM_OF_CLASSES)\n",
    "            \n",
    "    def forward(self, x):\n",
    "        \"\"\"\n",
    "        Perform a forward pass on the network\n",
    "        \"\"\"\n",
    "        x = F.relu(self.conv1_layer(x))\n",
    "        x = F.max_pool2d(x, (3, 3))\n",
    "\n",
    "        x = F.relu(self.conv2_layer(x))\n",
    "        x = F.max_pool2d(x, (2, 2))\n",
    "\n",
    "        x = F.relu(self.conv3_layer(x))\n",
    "        x = F.max_pool2d(x, (2, 2))\n",
    "        x = x.view(-1, self.layer_size_after_convs)\n",
    "        x = self.fc1(x)\n",
    "        x = F.softmax(x, dim=1)\n",
    "        return x"
   ]
  },
  {
   "cell_type": "markdown",
   "metadata": {},
   "source": [
    "We've also experimented with different hyperparameters & ways for training the network - \n",
    "* **SGD/Adam**\n",
    "* different learning rates and regularization values\n",
    "* **Different ConvNet architectures** - deeper layers, more/less Convolution filters, more Fully Connected layers and so on\n",
    "\n",
    "The following code was used to train the network - "
   ]
  },
  {
   "cell_type": "code",
   "execution_count": null,
   "metadata": {},
   "outputs": [],
   "source": [
    "model = SingleLetterCaptchaDeepCNN()\n",
    "loss_func = nn.CrossEntropyLoss()\n",
    "optimizer = torch.optim.SGD(model.parameters(), lr=0.001, weight_decay=0.0001)\n",
    "\n",
    "total_steps = len(train_dataset_loader)\n",
    "\n",
    "epochs = 100\n",
    "for epoch_num in range(epochs):\n",
    "    for i, (img_batch, labels) in enumerate(train_dataset_loader):\n",
    "        optimizer.zero_grad()\n",
    "        fw_pass_output = model(img_batch)\n",
    "        loss_values = loss_func(fw_pass_output, labels)        \n",
    "        loss_values.backward()\n",
    "        optimizer.step()\n",
    "\n",
    "        print ('Epoch [{}/{}], Step [{}/{}], Loss: {:.4f}'.format(epoch_num+1, epochs, i+1, total_steps, loss_values.item()))"
   ]
  },
  {
   "cell_type": "markdown",
   "metadata": {},
   "source": [
    "So far the network described above succeeded in classifying only a limited set of characters, but failed when trying to classify all the 62 characters together.\n",
    "\n",
    "So for example, when trying to classify only the following characters - `a, m, p, w, x` \n",
    "we managed to train a network that classifies with nearly **_80% accuracy!_**\n",
    "\n",
    "However when increasing the amount of characters and digits, our performance decreased.\n"
   ]
  },
  {
   "cell_type": "code",
   "execution_count": null,
   "metadata": {},
   "outputs": [],
   "source": []
  }
 ],
 "metadata": {
  "kernelspec": {
   "display_name": "Python 3",
   "language": "python",
   "name": "python3"
  },
  "language_info": {
   "codemirror_mode": {
    "name": "ipython",
    "version": 3
   },
   "file_extension": ".py",
   "mimetype": "text/x-python",
   "name": "python",
   "nbconvert_exporter": "python",
   "pygments_lexer": "ipython3",
   "version": "3.7.4"
  }
 },
 "nbformat": 4,
 "nbformat_minor": 2
}
