{
 "cells": [
  {
   "cell_type": "code",
   "execution_count": 42,
   "metadata": {},
   "outputs": [],
   "source": [
    "from captcha.image import ImageCaptcha\n",
    "import string\n",
    "import random\n",
    "import uuid\n",
    "import glob\n",
    "import datetime\n",
    "import os"
   ]
  },
  {
   "cell_type": "code",
   "execution_count": 55,
   "metadata": {},
   "outputs": [],
   "source": [
    "class ImageGenerator():\n",
    "    def __init__(self):\n",
    "#         self._fonts = [\n",
    "#             './AmericanTypewriter.ttc', \n",
    "#             './AppleChancery.ttf',\n",
    "#             './Baskerville.ttc',\n",
    "#             './BigCaslon.ttf',\n",
    "#             './Seravek.ttc'\n",
    "#         ]\n",
    "        self._fonts = self.font_finder()\n",
    "    \n",
    "        self._base_dir_name = \"generated_images_{dt}\".format(dt=datetime.datetime.now().strftime(\"%s\"))\n",
    "        # Create the base dir we're gonna save our generated images in\n",
    "        os.mkdir(self._base_dir_name)\n",
    "        \n",
    "        self.captcha_generator = ImageCaptcha(fonts=self._fonts, width=80, height=80)\n",
    "        self.base_chars = string.ascii_letters + string.digits\n",
    "        \n",
    "    def font_finder(self):\n",
    "        \"\"\"\n",
    "        Returns a list of all fonts in the `fonts` dir of this project\n",
    "        \"\"\"\n",
    "        return glob.glob('./fonts/*')\n",
    "        \n",
    "    def generate_single_char(self):\n",
    "        \"\"\"\n",
    "        Randomly select a character from the base chars\n",
    "        \"\"\"\n",
    "        selected_char = random.choice(self.base_chars)\n",
    "        return selected_char\n",
    "    \n",
    "    def generate_captcha_image(self, char):\n",
    "        \"\"\"\n",
    "        Receive a single character, and creates a CAPTCHA image, and returns the generated file name\n",
    "        (TODO - perhaps change this later to a full string? Or maybe use a different function)\n",
    "        \"\"\"\n",
    "        random_id = str(uuid.uuid4())[-8:]\n",
    "        filename = \"./{dirname}/{char}_{random_id}.png\".format(dirname=self._base_dir_name, char=char, random_id=random_id)\n",
    "        self.captcha_generator.write(char, filename)\n",
    "        return filename\n",
    "    \n",
    "    def execute_img_generation(self, num_of_images=10):\n",
    "        \"\"\"\n",
    "        Generate N CAPTCHA images, N received as a parameter.\n",
    "        Each image is saved as a PNG file\n",
    "        \"\"\"\n",
    "        for i in range(num_of_images):\n",
    "            print(\"Running generation number #{i}\".format(i=i+1))\n",
    "            char = self.generate_single_char()\n",
    "            print(\"Selected char {c}\".format(c=char))\n",
    "            fname = self.generate_captcha_image(char)\n",
    "            print(\"Wrote to {p}\".format(p=fname))\n",
    "            print(\"\\n\")"
   ]
  },
  {
   "cell_type": "code",
   "execution_count": 56,
   "metadata": {},
   "outputs": [],
   "source": [
    "generator = ImageGenerator()"
   ]
  },
  {
   "cell_type": "code",
   "execution_count": 57,
   "metadata": {},
   "outputs": [
    {
     "name": "stdout",
     "output_type": "stream",
     "text": [
      "Running generation number #1\n",
      "Selected char l\n",
      "Wrote to ./generated_images_1586853182/l_5fa54c02.png\n",
      "\n",
      "\n",
      "Running generation number #2\n",
      "Selected char J\n",
      "Wrote to ./generated_images_1586853182/J_7698f49d.png\n",
      "\n",
      "\n",
      "Running generation number #3\n",
      "Selected char z\n",
      "Wrote to ./generated_images_1586853182/z_6b5243d2.png\n",
      "\n",
      "\n",
      "Running generation number #4\n",
      "Selected char m\n",
      "Wrote to ./generated_images_1586853182/m_f6ea1b9c.png\n",
      "\n",
      "\n",
      "Running generation number #5\n",
      "Selected char G\n",
      "Wrote to ./generated_images_1586853182/G_7a8157c8.png\n",
      "\n",
      "\n",
      "Running generation number #6\n",
      "Selected char z\n",
      "Wrote to ./generated_images_1586853182/z_6604262c.png\n",
      "\n",
      "\n",
      "Running generation number #7\n",
      "Selected char D\n",
      "Wrote to ./generated_images_1586853182/D_1fa244c6.png\n",
      "\n",
      "\n",
      "Running generation number #8\n",
      "Selected char Y\n",
      "Wrote to ./generated_images_1586853182/Y_99a1ed2b.png\n",
      "\n",
      "\n",
      "Running generation number #9\n",
      "Selected char N\n",
      "Wrote to ./generated_images_1586853182/N_6a9c2934.png\n",
      "\n",
      "\n",
      "Running generation number #10\n",
      "Selected char k\n",
      "Wrote to ./generated_images_1586853182/k_03f9323d.png\n",
      "\n",
      "\n"
     ]
    }
   ],
   "source": [
    "generator.execute_img_generation()"
   ]
  },
  {
   "cell_type": "code",
   "execution_count": 35,
   "metadata": {},
   "outputs": [
    {
     "data": {
      "text/plain": [
       "['./fonts/Seravek.ttc',\n",
       " './fonts/BigCaslon.ttf',\n",
       " './fonts/AppleChancery.ttf',\n",
       " './fonts/AmericanTypewriter.ttc',\n",
       " './fonts/Baskerville.ttc']"
      ]
     },
     "execution_count": 35,
     "metadata": {},
     "output_type": "execute_result"
    }
   ],
   "source": [
    "glob.glob('./fonts/*')"
   ]
  },
  {
   "cell_type": "code",
   "execution_count": 38,
   "metadata": {},
   "outputs": [
    {
     "data": {
      "text/plain": [
       "'1586852799'"
      ]
     },
     "execution_count": 38,
     "metadata": {},
     "output_type": "execute_result"
    }
   ],
   "source": []
  },
  {
   "cell_type": "code",
   "execution_count": null,
   "metadata": {},
   "outputs": [],
   "source": []
  }
 ],
 "metadata": {
  "kernelspec": {
   "display_name": "Python 3",
   "language": "python",
   "name": "python3"
  },
  "language_info": {
   "codemirror_mode": {
    "name": "ipython",
    "version": 3
   },
   "file_extension": ".py",
   "mimetype": "text/x-python",
   "name": "python",
   "nbconvert_exporter": "python",
   "pygments_lexer": "ipython3",
   "version": "3.7.4"
  }
 },
 "nbformat": 4,
 "nbformat_minor": 2
}
